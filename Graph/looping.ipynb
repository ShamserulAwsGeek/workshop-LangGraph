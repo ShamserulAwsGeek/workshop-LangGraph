{
 "cells": [
  {
   "cell_type": "code",
   "execution_count": null,
   "id": "97b2a4eb",
   "metadata": {},
   "outputs": [],
   "source": [
    "from langgraph.graph import StateGraph, END\n",
    "import random\n",
    "from typing import TypedDict, List, Dict"
   ]
  },
  {
   "cell_type": "code",
   "execution_count": null,
   "id": "bcb6d9a8",
   "metadata": {},
   "outputs": [],
   "source": [
    "class AgentState(TypedDict):\n",
    "    name: str\n",
    "    number: List[int]\n",
    "    counter: int"
   ]
  },
  {
   "cell_type": "code",
   "execution_count": null,
   "id": "95625f30",
   "metadata": {},
   "outputs": [],
   "source": [
    "def greeting_node(state:AgentState) -> AgentState:\n",
    "    \"\"\" Greeting node which says Hi to the person\"\"\"\n",
    "    state[\"name\"]= f\" Hi lovely filks, {state[\"name\"]}\"\n",
    "    state[\"counter\"] = 0\n",
    "    return state\n",
    "\n",
    "\n",
    "def random_node(state:AgentState) -> AgentState:\n",
    "    \"\"\" generate a random number from 0 to 10\"\"\"\n",
    "    state[\"number\"].append(random.randint(0, 10))\n",
    "    state[\"number\"] += 1\n",
    "    return state\n",
    "    "
   ]
  }
 ],
 "metadata": {
  "language_info": {
   "name": "python"
  }
 },
 "nbformat": 4,
 "nbformat_minor": 5
}
