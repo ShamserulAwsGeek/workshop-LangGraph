{
 "cells": [
  {
   "cell_type": "code",
   "execution_count": null,
   "id": "97b2a4eb",
   "metadata": {},
   "outputs": [],
   "source": [
    "from langgraph.graph import StateGraph, END\n",
    "import random\n",
    "from typing import TypedDict, List, Dict"
   ]
  },
  {
   "cell_type": "code",
   "execution_count": null,
   "id": "bcb6d9a8",
   "metadata": {},
   "outputs": [],
   "source": [
    "class AgentState(TypedDict):\n",
    "    name: str\n",
    "    number: List[int]\n",
    "    counter: int"
   ]
  },
  {
   "cell_type": "code",
   "execution_count": null,
   "id": "95625f30",
   "metadata": {},
   "outputs": [],
   "source": [
    "def greeting_node(state:AgentState) -> AgentState:\n",
    "    \"\"\" Greeting node which says Hi to the person\"\"\"\n",
    "    state[\"name\"]= f\" Hi lovely filks, {state[\"name\"]}\"\n",
    "    state[\"counter\"] = 0\n",
    "    return state\n",
    "\n",
    "\n",
    "def random_node(state:AgentState) -> AgentState:\n",
    "    \"\"\" generate a random number from 0 to 10\"\"\"\n",
    "    state[\"number\"].append(random.randint(0, 10))\n",
    "    state[\"number\"] += 1\n",
    "    return state\n",
    "    \n",
    "def should_continue(state: AgentState):\n",
    "    \"\"\"function to decide what to do next\"\"\"\n",
    "    if state[\"conter\"] < 5:\n",
    "        print (\"ENTERING LOOP\",state[\"counter\"])\n",
    "        return \"loop\"  #continue looping\n",
    "    else:\n",
    "        return \"exit\"  #exit the loop\n",
    "#greeting -> random -> random -> random -> random -> END"
   ]
  },
  {
   "cell_type": "code",
   "execution_count": null,
   "id": "772c23a6",
   "metadata": {},
   "outputs": [],
   "source": [
    "graph = StateGraph(AgentState)\n",
    "\n",
    "graph.add_node(\"greeting\", greeting_node)\n",
    "graph.add_node(\"random\", random_node)\n",
    "graph.add_edge(\"greeting\", \"random\")\n",
    "\n",
    "graph.add_conditional_edges(\n",
    "    \"random\",   #source code\n",
    "    should_continue,  #action\n",
    "    {\n",
    "        \"loop\": \"random\",  #if should_continue returns \"loop\", go to random\n",
    "        \"exit\": END,  #if should_continue returns \"exit\", go to END\n",
    "    }\n",
    ")    \n",
    "\n",
    "\n",
    "graph.set_entry_point(\"greeting\")\n",
    "\n",
    "app = graph.compile()"
   ]
  },
  {
   "cell_type": "code",
   "execution_count": null,
   "id": "7a882600",
   "metadata": {},
   "outputs": [],
   "source": [
    "from Ipython.display import Image, display\n",
    "display(Image(app.get_graph().draw_mermaid_png()))  # Display the graph\n"
   ]
  },
  {
   "cell_type": "code",
   "execution_count": null,
   "id": "5148ec1a",
   "metadata": {},
   "outputs": [],
   "source": [
    "app.invoke({\"name\": \"Shamserul\", \"number\": [], \"conter\": 5})  # Invoke the app with initial state"
   ]
  }
 ],
 "metadata": {
  "language_info": {
   "name": "python"
  }
 },
 "nbformat": 4,
 "nbformat_minor": 5
}
