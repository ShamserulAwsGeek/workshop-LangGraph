{
 "cells": [
  {
   "cell_type": "code",
   "execution_count": null,
   "id": "44d55255",
   "metadata": {},
   "outputs": [],
   "source": [
    "from typing import TypedDict\n",
    "from langgraph.graph import StateGraph, START, END"
   ]
  },
  {
   "cell_type": "code",
   "execution_count": null,
   "id": "f0eb5ee7",
   "metadata": {},
   "outputs": [],
   "source": [
    "class AgentState(TypedDict):\n",
    "    number1: int\n",
    "    operation: str\n",
    "    number2: int\n",
    "    final_number: int"
   ]
  },
  {
   "cell_type": "code",
   "execution_count": null,
   "id": "fc8fe28e",
   "metadata": {},
   "outputs": [],
   "source": [
    "def adder(state:AgentState) -> AgentState:\n",
    "    \"\"\" This node adds two numbers together.\"\"\"\n",
    "    state[\"final_number\"] = state[\"number1\"] + state[\"nubmer2\"]\n",
    "    return state\n",
    "\n",
    "def subtractor(state: AgentState) -> AgentState:\n",
    "    \"\"\" This node subtracts the second number from the first.\"\"\"\n",
    "    state[\"final_number\"] = state[\"number1\"] - state[\"number2\"]\n",
    "    return state\n",
    "\n",
    "def decide_next_node(state: AgentState) -> AgentState:\n",
    "    \"\"\" This node will select the next node of the graph\"\"\"\n",
    "\n",
    "    if state[\"operation\"] == \"+\":\n",
    "        return \"addition_operation\"\n",
    "    \n",
    "    elif state[\"operation\"] == \"-\":\n",
    "        return \"subtraction_operation\"\n"
   ]
  }
 ],
 "metadata": {
  "language_info": {
   "name": "python"
  }
 },
 "nbformat": 4,
 "nbformat_minor": 5
}
