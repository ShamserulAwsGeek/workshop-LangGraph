{
 "cells": [
  {
   "cell_type": "code",
   "execution_count": null,
   "id": "44d55255",
   "metadata": {},
   "outputs": [],
   "source": [
    "from typing import TypedDict\n",
    "from langgraph.graph import StateGraph, START, END"
   ]
  },
  {
   "cell_type": "code",
   "execution_count": null,
   "id": "f0eb5ee7",
   "metadata": {},
   "outputs": [],
   "source": [
    "class AgentState(TypedDict):\n",
    "    number1: int\n",
    "    operation: str\n",
    "    number2: int\n",
    "    final_number: int"
   ]
  },
  {
   "cell_type": "code",
   "execution_count": null,
   "id": "fc8fe28e",
   "metadata": {},
   "outputs": [],
   "source": [
    "def adder(state:AgentState) -> AgentState:\n",
    "    \"\"\" This node adds two numbers together.\"\"\"\n",
    "    state[\"final_number\"] = state[\"number1\"] + state[\"nubmer2\"]\n",
    "    return state\n",
    "\n",
    "def subtractor(state: AgentState) -> AgentState:\n",
    "    \"\"\" This node subtracts the second number from the first.\"\"\"\n",
    "    state[\"final_number\"] = state[\"number1\"] - state[\"number2\"]\n",
    "    return state\n",
    "\n",
    "def decide_next_node(state: AgentState) -> AgentState:\n",
    "    \"\"\" This node will select the next node of the graph\"\"\"\n",
    "\n",
    "    if state[\"operation\"] == \"+\":\n",
    "        return \"addition_operation\"\n",
    "    \n",
    "    elif state[\"operation\"] == \"-\":\n",
    "        return \"subtraction_operation\"\n"
   ]
  },
  {
   "cell_type": "code",
   "execution_count": null,
   "id": "10993e89",
   "metadata": {},
   "outputs": [],
   "source": [
    "graph = StateGraph(AgentState)\n",
    "\n",
    "graph.add_node(\"add_node\", adder)\n",
    "graph.add_node(\"subtractor_node\", subtractor)\n",
    "graph.add_node(\"router\", lambda state: state) #passthrough function\n",
    "\n",
    "graph.add_edge(START, \"router\")\n",
    "\n",
    "graph.add_conditional_edges(\n",
    "    \"router\",\n",
    "    decide_next_node,\n",
    "    { \n",
    "        #Edge: Node\n",
    "        \"addition_operation\": \"add_node\",\n",
    "        \"subtraction_operation\": \"subtractor_node\"\n",
    "    }\n",
    ")\n",
    "\n",
    "graph.add_edge(\"add_node\", END)\n",
    "graph.add_edge(\"subtractor_node\", END)\n",
    "\n",
    "app =graph.invoke()"
   ]
  },
  {
   "cell_type": "code",
   "execution_count": null,
   "id": "a19261a3",
   "metadata": {},
   "outputs": [],
   "source": [
    "from Ipython.display import Image, display\n",
    "display(Image(app.get_graph().draw_mermaid_png()))"
   ]
  },
  {
   "cell_type": "code",
   "execution_count": null,
   "id": "d673a1be",
   "metadata": {},
   "outputs": [],
   "source": [
    "initial_state_1 = AgentState(number1 = 10, operation = \"-\", number2 = 5)\n",
    "print(app.invoke(initial_state_1))"
   ]
  },
  {
   "cell_type": "code",
   "execution_count": null,
   "id": "43fb2c8f",
   "metadata": {},
   "outputs": [],
   "source": [
    "result = app.invoke({\"number1\" : 20, \"operation\": \"-\", \"number2\": 10})\n",
    "print(result)"
   ]
  }
 ],
 "metadata": {
  "kernelspec": {
   "display_name": ".venv",
   "language": "python",
   "name": "python3"
  },
  "language_info": {
   "codemirror_mode": {
    "name": "ipython",
    "version": 3
   },
   "file_extension": ".py",
   "mimetype": "text/x-python",
   "name": "python",
   "nbconvert_exporter": "python",
   "pygments_lexer": "ipython3",
   "version": "3.12.8"
  }
 },
 "nbformat": 4,
 "nbformat_minor": 5
}
