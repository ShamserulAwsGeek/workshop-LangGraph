{
 "cells": [
  {
   "cell_type": "code",
   "execution_count": null,
   "id": "e17c9585",
   "metadata": {},
   "outputs": [],
   "source": [
    "from typing import TypedDict, List\n",
    "from langgraph.graph import StateGraph"
   ]
  },
  {
   "cell_type": "code",
   "execution_count": null,
   "id": "23fe97b3",
   "metadata": {},
   "outputs": [],
   "source": [
    "class AgentState(TypedDict):\n",
    "    values: List[int]\n",
    "    name: str\n",
    "    result: str"
   ]
  },
  {
   "cell_type": "code",
   "execution_count": null,
   "id": "ebec056b",
   "metadata": {},
   "outputs": [],
   "source": [
    "def process_values(state: AgentState) -> AgentState:\n",
    "    \"\"\" This function handles multiple different inputs\"\"\"\n",
    "    print(state)\n",
    "\n",
    "    state[\"result\"] = f\"Hi there {state[\"name\"]}\" ! Your sum = {sum(state[\"values\"])}\"\n",
    "\n",
    "    print(state)\n",
    "    return state"
   ]
  },
  {
   "cell_type": "code",
   "execution_count": null,
   "id": "eea41533",
   "metadata": {},
   "outputs": [],
   "source": [
    "graph = StateGraph(AgentState)\n",
    "\n",
    "graph.add_node(\"processor\", process_values)\n",
    "\n",
    "graph.set_entry_point(\"processor\")\n",
    "graph.set_finish_point(\"processor\")\n",
    "\n",
    "app = graph.compile()"
   ]
  },
  {
   "cell_type": "code",
   "execution_count": null,
   "id": "c56b1800",
   "metadata": {},
   "outputs": [],
   "source": [
    "from Ipython.display import Image, display\n",
    "display(Image(app.get_graph().draw_mermaid_png()))"
   ]
  },
  {
   "cell_type": "code",
   "execution_count": null,
   "id": "ed5a2a30",
   "metadata": {},
   "outputs": [],
   "source": [
    "answers = app.invoke({\"values\": [1,2,2,4], \"name\"\": \"Shamserul})"
   ]
  },
  {
   "cell_type": "code",
   "execution_count": null,
   "id": "c7265b9c",
   "metadata": {},
   "outputs": [],
   "source": [
    "print(answers[\"result\"])"
   ]
  }
 ],
 "metadata": {
  "language_info": {
   "name": "python"
  }
 },
 "nbformat": 4,
 "nbformat_minor": 5
}
