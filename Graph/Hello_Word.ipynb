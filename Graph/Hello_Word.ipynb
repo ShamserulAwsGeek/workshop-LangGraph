{
 "cells": [
  {
   "cell_type": "code",
   "execution_count": null,
   "id": "9b7a6944",
   "metadata": {},
   "outputs": [],
   "source": [
    "from typing import Dict, TypedDict\n",
    "from langgraph.graph import StateGraph # framework that helps you design and manage the flow of tasks in your application using a graph structure"
   ]
  },
  {
   "cell_type": "code",
   "execution_count": null,
   "id": "1cf77ea3",
   "metadata": {},
   "outputs": [],
   "source": [
    "# We now create an AgentState - shared data structure that keeps track of information as your application runs. \n",
    "\n",
    "class AgentState(TypedDict): # Our state schema\n",
    "    message : str \n",
    "\n",
    "\n",
    "def greeting_node(state: AgentState) -> AgentState:\n",
    "    \"\"\"Simple node that adds a greeting message to the state\"\"\"\n",
    "\n",
    "    state['message'] = \"Hey \" + state[\"message\"] + \", how is your day going?\"\n",
    "\n",
    "    return state "
   ]
  },
  {
   "cell_type": "code",
   "execution_count": null,
   "id": "5d94dc71",
   "metadata": {},
   "outputs": [],
   "source": [
    "graph= StateGraph(AgentState)  # Create a new state graph with the AgentState schema\n",
    "graph.add_node(\"greeter\", greeting_node)  # Add the greeting node to the graph\n",
    "\n",
    "graph.set_entry_point(\"greeter\")  # Set the entry point of the graph to the \"greeter\" node\n",
    "graph.set_finish_point(\"greeter\")  # Set the finish point of the graph to the \"greeter\" node\n",
    "\n",
    "app =graph.compile()  # Compile the graph into an application"
   ]
  }
 ],
 "metadata": {
  "kernelspec": {
   "display_name": ".venv",
   "language": "python",
   "name": "python3"
  },
  "language_info": {
   "codemirror_mode": {
    "name": "ipython",
    "version": 3
   },
   "file_extension": ".py",
   "mimetype": "text/x-python",
   "name": "python",
   "nbconvert_exporter": "python",
   "pygments_lexer": "ipython3",
   "version": "3.12.8"
  }
 },
 "nbformat": 4,
 "nbformat_minor": 5
}
