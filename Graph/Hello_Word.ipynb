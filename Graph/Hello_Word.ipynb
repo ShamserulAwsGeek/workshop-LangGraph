{
 "cells": [
  {
   "cell_type": "code",
   "execution_count": null,
   "id": "9b7a6944",
   "metadata": {},
   "outputs": [],
   "source": [
    "from typing import Dict, TypedDict\n",
    "from langgraph.graph import StateGraph # framework that helps you design and manage the flow of tasks in your application using a graph structure"
   ]
  }
 ],
 "metadata": {
  "language_info": {
   "name": "python"
  }
 },
 "nbformat": 4,
 "nbformat_minor": 5
}
