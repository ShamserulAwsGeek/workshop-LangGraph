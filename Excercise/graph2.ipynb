{
 "cells": [
  {
   "cell_type": "code",
   "execution_count": null,
   "id": "d91e9746",
   "metadata": {},
   "outputs": [],
   "source": [
    "from typing import TypedDict, List\n",
    "from langgraph.graph import StateGraph\n",
    "import math"
   ]
  },
  {
   "cell_type": "code",
   "execution_count": null,
   "id": "24491a07",
   "metadata": {},
   "outputs": [],
   "source": [
    "class AgenState(TypedDict):\n",
    "    name: str\n",
    "    values: List[int]\n",
    "    operation: str\n",
    "    rsult: str"
   ]
  },
  {
   "cell_type": "code",
   "execution_count": null,
   "id": "3b25e4df",
   "metadata": {},
   "outputs": [],
   "source": [
    "def process_values(state: AgentStae) -> AgentState:\n",
    "    \"\"\" This fucntion handles multiple different values\"\"\"\n",
    "    if state[\"operation\"] == \"+\":\n",
    "        state[\"result\"] = f\" Hi {state[\"name\"]}\", your anwer is : {sum(state[\"values\"])}\"\n",
    "\n",
    "    elif state[\"operation\"] == \"*\":\n",
    "        state[\"result\"] = f\" Hi {state['name']}, your answer is : {math.prod(state['values'])}\"\n",
    "    else:\n",
    "        state[\"re\"sult] = \"Invalid!\"\n",
    "    return state"
   ]
  }
 ],
 "metadata": {
  "language_info": {
   "name": "python"
  }
 },
 "nbformat": 4,
 "nbformat_minor": 5
}
