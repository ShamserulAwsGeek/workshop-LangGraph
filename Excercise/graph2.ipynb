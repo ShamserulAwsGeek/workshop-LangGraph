{
 "cells": [
  {
   "cell_type": "code",
   "execution_count": null,
   "id": "d91e9746",
   "metadata": {},
   "outputs": [],
   "source": [
    "from typing import TypedDict, List\n",
    "from langgraph.graph import StateGraph\n",
    "import math"
   ]
  },
  {
   "cell_type": "code",
   "execution_count": null,
   "id": "24491a07",
   "metadata": {},
   "outputs": [],
   "source": [
    "class AgentState(TypedDict):\n",
    "    name: str\n",
    "    values: List[int]\n",
    "    operation: str\n",
    "    result: str"
   ]
  },
  {
   "cell_type": "code",
   "execution_count": null,
   "id": "3b25e4df",
   "metadata": {},
   "outputs": [],
   "source": [
    "def process_values(state: AgentState) -> AgentState:\n",
    "    \"\"\" This fucntion handles multiple different values\"\"\"\n",
    "    if state[\"operation\"] == \"+\":\n",
    "        state[\"result\"] = f\" Hi {state[\"name\"]}, your answer is : {sum(state[\"values\"])}\"\n",
    "\n",
    "    elif state[\"operation\"] == \"*\":\n",
    "        state[\"result\"] = f\" Hi {state['name']}, your answer is : {math.prod(state['values'])}\"\n",
    "    else:\n",
    "        state[\"result\"] = \"Invalid!\"\n",
    "    return state"
   ]
  },
  {
   "cell_type": "code",
   "execution_count": null,
   "id": "b914318a",
   "metadata": {},
   "outputs": [],
   "source": [
    "graph = StateGraph(AgentState)\n",
    "\n",
    "graph.add_node(\"processor\", process_values)\n",
    "\n",
    "graph.set_entry_point(\"processor\")\n",
    "graph.set_finish_point(\"processor\")\n",
    "\n",
    "app = graph.compile()\n"
   ]
  },
  {
   "cell_type": "code",
   "execution_count": null,
   "id": "d20c1ed3",
   "metadata": {},
   "outputs": [],
   "source": [
    "from Ipython.display import Image, display\n",
    "display(Image(app.get_graph().draw_mermaid_png()))"
   ]
  },
  {
   "cell_type": "code",
   "execution_count": null,
   "id": "62e8578f",
   "metadata": {},
   "outputs": [],
   "source": [
    "answers = app.invoke({\"name\": \"Shmaserul\", \"values\": [1,2,3,4], \"operation\": \"*\"})"
   ]
  },
  {
   "cell_type": "code",
   "execution_count": null,
   "id": "cb7bb961",
   "metadata": {},
   "outputs": [],
   "source": [
    "print(answers[\"result\"])"
   ]
  }
 ],
 "metadata": {
  "language_info": {
   "name": "python"
  }
 },
 "nbformat": 4,
 "nbformat_minor": 5
}
