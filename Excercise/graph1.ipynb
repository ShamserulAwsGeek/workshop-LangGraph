{
 "cells": [
  {
   "cell_type": "code",
   "execution_count": null,
   "id": "f668dbe3",
   "metadata": {},
   "outputs": [],
   "source": [
    "from typingimport Dict, typedDict\n",
    "from langgraph.graph import StateGraph"
   ]
  },
  {
   "cell_type": "code",
   "execution_count": null,
   "id": "6534b792",
   "metadata": {},
   "outputs": [],
   "source": [
    "class AgentState(typedDict):\n",
    "    name : str\n",
    "\n",
    "def compliment_node(state: AgentState) -> AgenState:\n",
    "    \"\"\" simple node that compliments the user \"\"\"\n",
    "\n",
    "    state['name'] = state[\"name\"] + \"you are doing an amazing job by learning Langgrapg!\"\n",
    "\n",
    "    return state\n",
    "    "
   ]
  },
  {
   "cell_type": "code",
   "execution_count": null,
   "id": "ce5c99e7",
   "metadata": {},
   "outputs": [],
   "source": [
    "graph = StateGraph(AgentState)\n",
    "\n",
    "graph.add_node(\"complement\", complement_node)\n",
    "\n",
    "graph.set_entry_point(\"complement\")\n",
    "graph.set_finish_point(\"complement\")\n",
    "\n",
    "app = graph.compile()"
   ]
  },
  {
   "cell_type": "code",
   "execution_count": null,
   "id": "a3414130",
   "metadata": {},
   "outputs": [],
   "source": [
    "from Ipython.display import Image, display\n",
    "display(Image(app.get_graph().draw_mermaid_png()))"
   ]
  },
  {
   "cell_type": "code",
   "execution_count": null,
   "id": "607e591b",
   "metadata": {},
   "outputs": [],
   "source": [
    "result = app.invoke{\"name\": \"Sham'\"}\n",
    "\n",
    "\n"
   ]
  },
  {
   "cell_type": "code",
   "execution_count": null,
   "id": "e3159fac",
   "metadata": {},
   "outputs": [],
   "source": [
    "result[\"name\"]"
   ]
  }
 ],
 "metadata": {
  "language_info": {
   "name": "python"
  }
 },
 "nbformat": 4,
 "nbformat_minor": 5
}
