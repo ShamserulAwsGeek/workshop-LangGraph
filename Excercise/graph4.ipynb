{
 "cells": [
  {
   "cell_type": "code",
   "execution_count": 2,
   "id": "632a2609",
   "metadata": {},
   "outputs": [
    {
     "ename": "ModuleNotFoundError",
     "evalue": "No module named 'langgraph'",
     "output_type": "error",
     "traceback": [
      "\u001b[31m---------------------------------------------------------------------------\u001b[39m",
      "\u001b[31mModuleNotFoundError\u001b[39m                       Traceback (most recent call last)",
      "\u001b[36mCell\u001b[39m\u001b[36m \u001b[39m\u001b[32mIn[2]\u001b[39m\u001b[32m, line 2\u001b[39m\n\u001b[32m      1\u001b[39m \u001b[38;5;28;01mfrom\u001b[39;00m\u001b[38;5;250m \u001b[39m\u001b[34;01mtyping\u001b[39;00m\u001b[38;5;250m \u001b[39m\u001b[38;5;28;01mimport\u001b[39;00m TypedDict\n\u001b[32m----> \u001b[39m\u001b[32m2\u001b[39m \u001b[38;5;28;01mfrom\u001b[39;00m\u001b[38;5;250m \u001b[39m\u001b[34;01mlanggraph\u001b[39;00m\u001b[34;01m.\u001b[39;00m\u001b[34;01mgraph\u001b[39;00m\u001b[38;5;250m \u001b[39m\u001b[38;5;28;01mimport\u001b[39;00m StateGraph, START, END\n",
      "\u001b[31mModuleNotFoundError\u001b[39m: No module named 'langgraph'"
     ]
    }
   ],
   "source": [
    "from typing import TypedDict\n",
    "from langgraph.graph import StateGraph, START, END"
   ]
  },
  {
   "cell_type": "code",
   "execution_count": 3,
   "id": "79c41aa1",
   "metadata": {},
   "outputs": [],
   "source": [
    "class AgentState(TypedDict):\n",
    "    number1: int\n",
    "    operation1: str\n",
    "    number2: int\n",
    "    final_number1: int\n",
    "    number3: int\n",
    "    operation2: str\n",
    "    number4: int\n",
    "    final_number2: int\n"
   ]
  },
  {
   "cell_type": "code",
   "execution_count": 4,
   "id": "0354197e",
   "metadata": {},
   "outputs": [],
   "source": [
    "def adder1(state: AgentState) -> AgentState:\n",
    "    \"\"\" this node adds the two numbers\"\"\"\n",
    "    state[\"final_number1\"] = state[\"number1\"] + state[\"number2\"]\n",
    "    return state\n",
    "\n",
    "def subtractor1(state:AgentState) -> AgentState:\n",
    "    \"\"\" this node subtracts the second number from the first\"\"\"\n",
    "    state[\"final_number1\"] = state[\"number1\"] - state[\"number2\"]\n",
    "    return state\n",
    "\n",
    "def decide_next_node1(state:AgentState) -> AgentState:\n",
    "    \"\"\" this node will select the next phase\"\"\"\n",
    "    if state[\"operation1\"] == \"+\":\n",
    "        return \"addition_operation1\"\n",
    "    elif state[\"operatition1\"] == \"-\":\n",
    "        return \"subtraction_operation1\"\n",
    "    \n",
    "def adder2(state:AgentState) -> AgentState:\n",
    "    \"\"\" this node adds the two numbers\"\"\"\n",
    "    state[\"final_number2\"] = state[\"number3\"] + state[\"number4\"]\n",
    "    return state\n",
    "\n",
    "def subtractor2(state:AgentState) -> AgentState:\n",
    "    \"\"\" this node subtracts two numbers\"\"\"\n",
    "    state[\"final_number2\"] = state[\"number3\"] - state[\"number4\"]\n",
    "    return state\n",
    "\n",
    "def decide_next_node2(state: AgentState) -> AgentState:\n",
    "    \"\"\" this node will select the next phase\"\"\"\n",
    "    if state[\"operation2\"] == \"+\":\n",
    "        return \"addition_operation2\"\n",
    "    elif state[\"operation2\"] == \"-\":\n",
    "        return \"subtraction_operation2\"\n",
    "    "
   ]
  },
  {
   "cell_type": "code",
   "execution_count": null,
   "id": "6026da02",
   "metadata": {},
   "outputs": [],
   "source": [
    "graph = StateGraph(AgentState)\n",
    "\n",
    "graph.add_node(\"add_node1\", adder1)\n",
    "graph.add_node(\"subtractor_node1\", subtractor1)\n",
    "graph.add_node(\"router1\", lambda state: state)\n",
    "\n",
    "graph.add_node(\"add_node2\", adder2)\n",
    "graph.add_node(\"subtractor_node2\", subtractor2)\n",
    "graph.add_node(\"router2\", lambda state: state)\n",
    "\n",
    "graph.add_edge(START,\"router1\")\n",
    "graph.add_conditional_edges(\n",
    "    \"router1\",\n",
    "    decide_next_node1,\n",
    "    \n",
    "    {\n",
    "        #Edge: Node format\n",
    "        \"addition_operation1\": \"add_node1\",\n",
    "        \"subtraction_operation1\": \"subtractor_node1\"\n",
    "    }\n",
    ")\n",
    "\n",
    "graph.add_edge(\"add_node1\",\"router2\")\n",
    "graph.add_edge(\"subtractor_node1\", \"router2\")\n",
    "\n",
    "graph.add_conditional_edges(\n",
    "    \"router2\",\n",
    "    decide_next_node2,\n",
    "\n",
    "    {\n",
    "        #Edge: Node format\n",
    "        \"addition_operation2\": \"add_node2\",\n",
    "        \"subtraction_operation2\": \"subtractor_node2\"\n",
    "    }\n",
    ")\n",
    "\n",
    "graph.add_edge(\"add_node2\", END)\n",
    "graph.add_edge(\"subtractor_node2\", END)\n",
    "\n",
    "app = graph.compile()\n"
   ]
  },
  {
   "cell_type": "code",
   "execution_count": null,
   "id": "2de0f308",
   "metadata": {},
   "outputs": [],
   "source": [
    "from Ipython.display import Image, display\n",
    "display(Image(app.get_graph().draw_mermaid_png()))"
   ]
  },
  {
   "cell_type": "code",
   "execution_count": null,
   "id": "343b7a54",
   "metadata": {},
   "outputs": [],
   "source": [
    "initial_state = AgentState(number1 =10, operation1 = \"-\", number2 =5, number3 =4, number4= 2, operation2= \"+\", final_number1= 0, final_number2=0) "
   ]
  },
  {
   "cell_type": "code",
   "execution_count": null,
   "id": "0bb02af0",
   "metadata": {},
   "outputs": [],
   "source": [
    "print(app.invoke(initial_state))"
   ]
  }
 ],
 "metadata": {
  "kernelspec": {
   "display_name": ".venv",
   "language": "python",
   "name": "python3"
  },
  "language_info": {
   "codemirror_mode": {
    "name": "ipython",
    "version": 3
   },
   "file_extension": ".py",
   "mimetype": "text/x-python",
   "name": "python",
   "nbconvert_exporter": "python",
   "pygments_lexer": "ipython3",
   "version": "3.12.8"
  }
 },
 "nbformat": 4,
 "nbformat_minor": 5
}
