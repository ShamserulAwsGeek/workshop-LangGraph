{
 "cells": [
  {
   "cell_type": "code",
   "execution_count": null,
   "id": "632a2609",
   "metadata": {},
   "outputs": [],
   "source": [
    "from typing import TypedDict\n",
    "from langgraph.graph import StateGraph, START, END"
   ]
  },
  {
   "cell_type": "code",
   "execution_count": null,
   "id": "79c41aa1",
   "metadata": {},
   "outputs": [],
   "source": [
    "class AgentState(TypedDict):\n",
    "    number1: int\n",
    "    operation1: str\n",
    "    number2: int\n",
    "    final_number1: int\n",
    "    number3: int\n",
    "    operation2: str\n",
    "    number4: int\n",
    "    final_number2: int\n"
   ]
  },
  {
   "cell_type": "code",
   "execution_count": null,
   "id": "0354197e",
   "metadata": {},
   "outputs": [],
   "source": [
    "def adder1(state: AgentState) -> AgentState:\n",
    "    \"\"\" this node adds the two numbers\"\"\"\n",
    "    state[\"final_number1\"] = state[\"number1\"] + state[\"number2\"]\n",
    "    return state\n",
    "\n",
    "def subtractor1(state:AgentState) -> AgentState:\n",
    "    \"\"\" this node subtracts the second number from the first\"\"\"\n",
    "    state[\"final_number1\"] = state[\"number1\"] - state[\"number2\"]\n",
    "    return state\n",
    "\n",
    "def decide_next_node1(state:AgentState) -> AgentState:\n",
    "    \"\"\" this node will select the next phase\"\"\"\n",
    "    if state[\"operation1\"] == \"+\":\n",
    "        return \"addition_operation1\"\n",
    "    elif state[\"operatition1\"] == \"-\":\n",
    "        return \"subtraction_operation1\"\n",
    "    \n",
    "def adder2(state:AgentState) -> AgentState:\n",
    "    \"\"\" this node adds the two numbers\"\"\"\n",
    "    state[\"final_number2\"] = state[\"number3\"] + state[\"number4\"]\n",
    "    return state\n",
    "\n",
    "def subtractor2(state:AgentState) -> AgentState:\n",
    "    \"\"\" this node subtracts two numbers\"\"\"\n",
    "    state[\"final_number2\"] = state[\"number3\"] - state[\"number4\"]\n",
    "    return state\n",
    "\n",
    "def decide_next_node2(state: AgentState) -> AgentState:\n",
    "    \"\"\" this node will select the next phase\"\"\"\n",
    "    if state[\"operation2\"] == \"+\":\n",
    "        return \"addition_operation2\"\n",
    "    elif state[\"operation2\"] == \"-\":\n",
    "        return \"subtraction_operation2\"\n",
    "    "
   ]
  },
  {
   "cell_type": "code",
   "execution_count": null,
   "id": "6026da02",
   "metadata": {},
   "outputs": [],
   "source": [
    "graph = StateGraph(AgentState)\n",
    "\n",
    "graph.add_node(\"add_node1\", adder1)\n",
    "graph.add_node(\"subtractor_node1\", subtractor1)\n",
    "graph.add_node(\"router1\", lambda state: state)\n",
    "\n",
    "graph.add_node(\"add_node2\", adder2)\n",
    "graph.add_node(\"subtractor_node2\", subtractor2)\n",
    "graph.add_node(\"router2\", lambda state: state)"
   ]
  }
 ],
 "metadata": {
  "language_info": {
   "name": "python"
  }
 },
 "nbformat": 4,
 "nbformat_minor": 5
}
