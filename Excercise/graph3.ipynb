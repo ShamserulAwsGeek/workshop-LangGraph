{
 "cells": [
  {
   "cell_type": "code",
   "execution_count": null,
   "id": "9a798af2",
   "metadata": {},
   "outputs": [],
   "source": [
    "from typing import TypedDict\n",
    "from langgraph.graph import StateGraph\n"
   ]
  },
  {
   "cell_type": "code",
   "execution_count": null,
   "id": "3fc1d00d",
   "metadata": {},
   "outputs": [],
   "source": [
    "class AgentState(TypedDict):\n",
    "    name: str\n",
    "    age: str\n",
    "    skills: list\n",
    "    final_result: str"
   ]
  },
  {
   "cell_type": "code",
   "execution_count": null,
   "id": "7702aabd",
   "metadata": {},
   "outputs": [],
   "source": [
    "def first_node(state:AgentState) -> AgentState:\n",
    "    \"\"\" This node will greet the user\"\"\"\n",
    "\n",
    "    state[\"final_result\"] = f\"{state[\"name\"]} Welcome to the world of AI!\"\n",
    "    return state\n",
    "\n",
    "def second_node(state:AgentState) -> AgentState:\n",
    "    \"\"\" This node will describe user's age\"\"\"\n",
    "\n",
    "    state[\"final_state\"] = state[\"final_state\"] + f\" I am {state[\"age\"]} years old\"\n",
    "    return state\n",
    "\n",
    "def third_node(state:AgentState):\n",
    "    \"\"\" This node will describe user's skills in a formatted string\"\"\"\n",
    "\n",
    "    state[\"final_state\"] = state[\"final_state\"] + f\"I am Aws AI Practiotioner enthusiasts : in {\", \".join(state[\"skills\"])}\"\n",
    "    return state\n"
   ]
  },
  {
   "cell_type": "code",
   "execution_count": null,
   "id": "40651028",
   "metadata": {},
   "outputs": [],
   "source": [
    "graph = StateGraph(AgentState)\n",
    "\n",
    "graph.add_node(\"personalize\", first_node)\n",
    "graph.add_node(\"age_description\", second_node)\n",
    "graph.add_node(\"skills_descriptions\", third_node)\n",
    "\n",
    "graph.set_entry_point(\"personalize\")\n",
    "graph.add_edge(\"personalize\", \"age_description\")\n",
    "graph.add_edge(\"age_description\", \"skills_description\")\n",
    "graph.set_finish_point(\"skills_descriptions\")\n",
    "\n",
    "app =graph.compile()\n"
   ]
  },
  {
   "cell_type": "code",
   "execution_count": null,
   "id": "5fb02daf",
   "metadata": {},
   "outputs": [],
   "source": [
    "from Ipython.display import Image, display\n",
    "display(Image(app.get_graph().draw_mermaid_png()))"
   ]
  },
  {
   "cell_type": "code",
   "execution_count": null,
   "id": "01161198",
   "metadata": {},
   "outputs": [],
   "source": [
    "result = app.invoke({\"name\": \"Shamserul\", \"age\": \"29\", \"skills\": [\"Python\", \"AWS\", \"AI\", \"Langgraph\"]})"
   ]
  },
  {
   "cell_type": "code",
   "execution_count": null,
   "id": "cbb493a8",
   "metadata": {},
   "outputs": [],
   "source": [
    "result[\"final_result\"]"
   ]
  }
 ],
 "metadata": {
  "language_info": {
   "name": "python"
  }
 },
 "nbformat": 4,
 "nbformat_minor": 5
}
