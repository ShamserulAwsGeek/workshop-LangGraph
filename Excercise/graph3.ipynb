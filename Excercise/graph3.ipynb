{
 "cells": [
  {
   "cell_type": "code",
   "execution_count": null,
   "id": "9a798af2",
   "metadata": {},
   "outputs": [],
   "source": [
    "from typing import TypedDict\n",
    "from langgraph.graph import StateGraph\n"
   ]
  },
  {
   "cell_type": "code",
   "execution_count": null,
   "id": "3fc1d00d",
   "metadata": {},
   "outputs": [],
   "source": [
    "class AgentState(TypedDict):\n",
    "    name: str\n",
    "    age: str\n",
    "    skills: list\n",
    "    final_result: str"
   ]
  },
  {
   "cell_type": "code",
   "execution_count": null,
   "id": "7702aabd",
   "metadata": {},
   "outputs": [],
   "source": [
    "def first_node(state:AgentState) -> AgentState:\n",
    "    \"\"\" This node will greet the user\"\"\"\n",
    "\n",
    "    state[\"final_result\"] = f\"{state[\"name\"]} Welcome to the world of AI!\"\n",
    "    return state\n",
    "\n",
    "def second_node(state:AgentState) -> AgentState:\n",
    "    \"\"\" This node will describe user's age\"\"\"\n",
    "\n",
    "    state[\"final_state\"] = state[\"final_state\"] + f\" I am {state[\"age\"]} years old\"\n",
    "    return state\n",
    "\n",
    "def third_node(state:AgentState):\n",
    "    \"\"\" This node will describe user's skills in a formatted string\"\"\"\n",
    "\n",
    "    state[\"final_state\"] = state[\"final_state\"] + f\"I am Aws AI Practiotioner enthusiasts : in {\", \".join(state[\"skills\"])}\"\n",
    "    return state\n"
   ]
  }
 ],
 "metadata": {
  "language_info": {
   "name": "python"
  }
 },
 "nbformat": 4,
 "nbformat_minor": 5
}
