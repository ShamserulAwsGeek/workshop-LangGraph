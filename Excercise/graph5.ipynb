{
 "cells": [
  {
   "cell_type": "code",
   "execution_count": null,
   "id": "f41a86c5",
   "metadata": {},
   "outputs": [],
   "source": [
    "from langgraph.graph import StateGraph, End\n",
    "import random\n",
    "from typing import TypedDict, List, Dict"
   ]
  },
  {
   "cell_type": "code",
   "execution_count": null,
   "id": "324e6535",
   "metadata": {},
   "outputs": [],
   "source": [
    "class GameState(TypedDict):\n",
    "    player_name: str\n",
    "    target_number: int\n",
    "    guesses: List[int]\n",
    "    attempts: int\n",
    "    hint: str\n",
    "    lower_bound: int\n",
    "    upper_bound: int"
   ]
  },
  {
   "cell_type": "code",
   "execution_count": null,
   "id": "5502b1d6",
   "metadata": {},
   "outputs": [],
   "source": [
    "def setup_node(state: GameState) -> GameState:\n",
    "    \"\"\" Initialize the game with a random target number\"\"\"\n",
    "    state[\"player_name\"] = f\" welcome {state[\"player_nmae\"]}!\"\n",
    "    state[\"target_number\"]= random.randint(1, 20)\n",
    "    state[\"guesses\"] = []\n",
    "    state[\"atempts\"] = 0\n",
    "    state[\"hint\"] = \"Game started! Try to guess the number\"\n",
    "    state[\"lower_bound\"] = 1\n",
    "    state[\"upper_bound\"] = 20\n",
    "    print(f\"{state[\"player_name\"]} The game has began. I am thinking of a number between 1 & 20\")\n",
    "    return state"
   ]
  },
  {
   "cell_type": "code",
   "execution_count": null,
   "id": "3126d73c",
   "metadata": {},
   "outputs": [],
   "source": [
    "def guess_node(state: GameState) -> GameState:\n",
    "    \"\"\"Generate a smarter guess based on previous hints\"\"\"\n",
    "    \n",
    "    possible_guesses = [i for i in range(state[\"lower_bound\"], state[\"upper_bound\"] + 1) if i not in state[\"guesses\"]]\n",
    "    if possible_guesses:\n",
    "        guess = random.choice(possible_guesses)\n",
    "    else:\n",
    "        \n",
    "        guess = random.randint(state[\"lower_bound\"], state[\"upper_bound\"])\n",
    "    \n",
    "    state[\"guesses\"].append(guess)\n",
    "    state[\"attempts\"] += 1\n",
    "    print(f\"Attempt {state['attempts']}: Guessing {guess} (Current range: {state['lower_bound']}-{state['upper_bound']})\")\n",
    "    return state"
   ]
  },
  {
   "cell_type": "code",
   "execution_count": null,
   "id": "4ae7c851",
   "metadata": {},
   "outputs": [],
   "source": [
    "def hint_node(state:GameState) -> GameState:\n",
    "    \"\"\" Here we provide a hint based on the last guess and update the bounds\"\"\"\n",
    "    latest_guess = state[\"guessses\"][-1]\n",
    "    target = state[\"target_number\"]\n",
    "\n",
    "    if latest_guess < target:\n",
    "        state[\"hint\"] = f\"the number {latest_guess} is too low, try a higher number!\"\n",
    "        state[\"lower_bound\"] = max(state[\"lower_bound\"], latest_guess + 1)\n",
    "        print(f\"Hint: {state['hint']}\")\n",
    "\n",
    "    elif latest_guess > target:\n",
    "        state[\"hint\"] = f\"the number {latest_guess} is too high, try a lower number!\"\n",
    "        state[\"upper_bound\"] = min(state[\"upper_bound\"], latest_guess -1 )\n",
    "        print(f\"Hint: {state[\"hint\"]}\")\n",
    "    else:\n",
    "        state[\"hint\"] = f\"correct you found the number {target} in {state[\"attempts\"]} \"\n",
    "        print(f\"success ! {state[\"hint\"]}\")\n",
    "    return state\n",
    "        \n"
   ]
  },
  {
   "cell_type": "code",
   "execution_count": null,
   "id": "47da1a10",
   "metadata": {},
   "outputs": [],
   "source": [
    "def should_continue(state: GameState) -> str:\n",
    "    \"\"\" Determine if we should guess the game or end the game\"\"\"\n",
    "    # There are 2 end conditions - either 7 is reached or the correct number is guessed\n",
    "\n",
    "    latest_guess = state[\"guesses\"][-1] \n",
    "    if latest_guess == state[\"target_number\"]:\n",
    "        print(f\"Game over: Number found\")\n",
    "        return \"end\"\n",
    "    elif state[\"attempts\"] >= 7:\n",
    "        print(f\"Game over: Maximum attempts reached! the number was {state[\"target_number\"]}\")\n",
    "        return \"end\"\n",
    "    else:\n",
    "        print(f\"Continuing the game: {state['attempts']}/7 attempts used.\")\n",
    "        return \"continue\"\n",
    "        "
   ]
  }
 ],
 "metadata": {
  "language_info": {
   "name": "python"
  }
 },
 "nbformat": 4,
 "nbformat_minor": 5
}
