{
 "cells": [
  {
   "cell_type": "code",
   "execution_count": null,
   "id": "f41a86c5",
   "metadata": {},
   "outputs": [],
   "source": [
    "from langgraph.graph import StateGraph, End\n",
    "import random\n",
    "from typing import TypedDict, List, Dict"
   ]
  },
  {
   "cell_type": "code",
   "execution_count": null,
   "id": "324e6535",
   "metadata": {},
   "outputs": [],
   "source": [
    "class GameState(TypedDict):\n",
    "    player_name: str\n",
    "    target_number: int\n",
    "    guesses: List[int]\n",
    "    attempts: int\n",
    "    hint: str\n",
    "    lower_bound: int\n",
    "    upper_bound: int"
   ]
  },
  {
   "cell_type": "code",
   "execution_count": null,
   "id": "5502b1d6",
   "metadata": {},
   "outputs": [],
   "source": [
    "def setup_node(state: GameState) -> GameState:\n",
    "    \"\"\" Initialize the game with a random target number\"\"\"\n",
    "    state[\"player_name\"] = f\" welcome {state[\"player_nmae\"]}!\"\n",
    "    state[\"target_number\"]= random.randint(1, 20)\n",
    "    state[\"guesses\"] = []\n",
    "    state[\"atempts\"] = 0\n",
    "    state[\"hint\"] = \"Game started! Try to guess the number\"\n",
    "    state[\"lower_bound\"] = 1\n",
    "    state[\"upper_bound\"] = 20\n",
    "    print(f\"{state[\"player_name\"]} The game has began. I am thinking of a number between 1 & 20\")\n",
    "    return state"
   ]
  }
 ],
 "metadata": {
  "language_info": {
   "name": "python"
  }
 },
 "nbformat": 4,
 "nbformat_minor": 5
}
